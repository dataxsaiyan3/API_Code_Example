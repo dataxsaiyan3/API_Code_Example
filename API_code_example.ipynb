{
 "cells": [
  {
   "cell_type": "markdown",
   "id": "97d87fe5",
   "metadata": {},
   "source": [
    "# Importing libraries "
   ]
  },
  {
   "cell_type": "code",
   "execution_count": 31,
   "id": "dc1bf205",
   "metadata": {},
   "outputs": [],
   "source": [
    "import requests\n",
    "import json\n",
    "import pandas as pd"
   ]
  },
  {
   "cell_type": "markdown",
   "id": "da62b148",
   "metadata": {},
   "source": [
    "# Requesting data using open api as an example"
   ]
  },
  {
   "cell_type": "code",
   "execution_count": 28,
   "id": "acbcfc6c",
   "metadata": {},
   "outputs": [
    {
     "name": "stdout",
     "output_type": "stream",
     "text": [
      "200\n"
     ]
    }
   ],
   "source": [
    "response = requests.get(\"http://api.open-notify.org/iss-now.json\")\n",
    "print(response.status_code)"
   ]
  },
  {
   "cell_type": "markdown",
   "id": "c277f3ab",
   "metadata": {},
   "source": [
    "# Dumping the data as a json format for easier read and implementation"
   ]
  },
  {
   "cell_type": "code",
   "execution_count": 29,
   "id": "32f995fd",
   "metadata": {},
   "outputs": [
    {
     "name": "stdout",
     "output_type": "stream",
     "text": [
      "{\n",
      "    \"iss_position\": {\n",
      "        \"latitude\": \"38.6786\",\n",
      "        \"longitude\": \"-153.9507\"\n",
      "    },\n",
      "    \"message\": \"success\",\n",
      "    \"timestamp\": 1624972091\n",
      "}\n"
     ]
    }
   ],
   "source": [
    "dictionary = json.dumps(response.json(), sort_keys = True, indent = 4)\n",
    "print(dictionary)"
   ]
  },
  {
   "cell_type": "markdown",
   "id": "2cb77927",
   "metadata": {},
   "source": [
    "# Creating a data frame"
   ]
  },
  {
   "cell_type": "code",
   "execution_count": 34,
   "id": "00435417",
   "metadata": {},
   "outputs": [
    {
     "data": {
      "text/html": [
       "<div>\n",
       "<style scoped>\n",
       "    .dataframe tbody tr th:only-of-type {\n",
       "        vertical-align: middle;\n",
       "    }\n",
       "\n",
       "    .dataframe tbody tr th {\n",
       "        vertical-align: top;\n",
       "    }\n",
       "\n",
       "    .dataframe thead th {\n",
       "        text-align: right;\n",
       "    }\n",
       "</style>\n",
       "<table border=\"1\" class=\"dataframe\">\n",
       "  <thead>\n",
       "    <tr style=\"text-align: right;\">\n",
       "      <th></th>\n",
       "      <th>iss_position</th>\n",
       "      <th>message</th>\n",
       "      <th>timestamp</th>\n",
       "    </tr>\n",
       "  </thead>\n",
       "  <tbody>\n",
       "    <tr>\n",
       "      <th>latitude</th>\n",
       "      <td>38.6786</td>\n",
       "      <td>success</td>\n",
       "      <td>2021-06-29 13:08:11</td>\n",
       "    </tr>\n",
       "    <tr>\n",
       "      <th>longitude</th>\n",
       "      <td>-153.9507</td>\n",
       "      <td>success</td>\n",
       "      <td>2021-06-29 13:08:11</td>\n",
       "    </tr>\n",
       "  </tbody>\n",
       "</table>\n",
       "</div>"
      ],
      "text/plain": [
       "           iss_position  message           timestamp\n",
       "latitude        38.6786  success 2021-06-29 13:08:11\n",
       "longitude     -153.9507  success 2021-06-29 13:08:11"
      ]
     },
     "execution_count": 34,
     "metadata": {},
     "output_type": "execute_result"
    }
   ],
   "source": [
    "df = pd.read_json(dictionary)\n",
    "df"
   ]
  },
  {
   "cell_type": "markdown",
   "id": "553dec02",
   "metadata": {},
   "source": [
    "# From here I could run my analysis"
   ]
  }
 ],
 "metadata": {
  "kernelspec": {
   "display_name": "Python 3",
   "language": "python",
   "name": "python3"
  },
  "language_info": {
   "codemirror_mode": {
    "name": "ipython",
    "version": 3
   },
   "file_extension": ".py",
   "mimetype": "text/x-python",
   "name": "python",
   "nbconvert_exporter": "python",
   "pygments_lexer": "ipython3",
   "version": "3.9.5"
  }
 },
 "nbformat": 4,
 "nbformat_minor": 5
}
